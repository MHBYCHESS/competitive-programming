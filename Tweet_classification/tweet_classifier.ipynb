{
 "cells": [
  {
   "cell_type": "markdown",
   "metadata": {},
   "source": [
    "## To Vaccinate or Not to Vaccinate: Analysing social media sentiment towards vaccines\n",
    "\n",
    "Although it may be many months before we see COVID-19 vaccines available on a global scale, it is important to monitor public sentiment towards vaccinations now and especially in the future when COVID-19 vaccines are offered to the public. The anti-vaccination sentiment could pose a serious threat to the global efforts to get COVID-19 under control in the long term.\n",
    "\n",
    "The objective of this challenge is to develop a machine learning model to assess if a Twitter post related to vaccinations is positive, neutral, or negative. \n",
    "\n",
    "The challenge is of an NLP kind.\n",
    "* NLP (Natural Language Processing): is a machine-learning sub category that entails a wide range of techniques designed to help machines learn from text. \n",
    "    * Natural Language Processing is most commonly used in chatbots and search engines; and in tasks such as sentiment analysis and machine-translation(e.g.google-translate)."
   ]
  },
  {
   "cell_type": "code",
   "execution_count": null,
   "metadata": {
    "_cell_guid": "b1076dfc-b9ad-4769-8c92-a6c4dae69d19",
    "_uuid": "8f2839f25d086af736a60e9eeb907d3b93b6e0e5"
   },
   "outputs": [],
   "source": [
    "import numpy as np # linear algebra\n",
    "import pandas as pd # data processing, CSV file I/O (e.g. pd.read_csv)\n",
    "from matplotlib import pyplot as plt\n",
    "from sklearn.model_selection import StratifiedKFold, train_test_split\n",
    "import xgboost as xgb\n",
    "\n",
    "import utils # Custom functions defined in utils.py\n",
    "import re\n",
    "import os\n",
    "\n",
    "import warnings\n",
    "warnings.filterwarnings('ignore')"
   ]
  },
  {
   "cell_type": "code",
   "execution_count": null,
   "metadata": {
    "_cell_guid": "79c7e3d0-c299-4dcb-8224-4455121ee9b0",
    "_uuid": "d629ff2d2480ee46fbb7e2d37f6b5fab8052498a"
   },
   "outputs": [],
   "source": [
    "train_df = pd.read_csv('./raw_data/Train.csv')\n",
    "test_df = pd.read_csv('./raw_data/Test.csv')\n",
    "sub = pd.read_csv('./raw_data/SampleSubmission.csv')"
   ]
  },
  {
   "cell_type": "markdown",
   "metadata": {},
   "source": [
    "### Tweet exploration\n",
    "\n",
    "Let's have a glimpse as to what pro-vaccination, neutral and anti-vaccination tweets look like"
   ]
  },
  {
   "cell_type": "code",
   "execution_count": null,
   "metadata": {},
   "outputs": [],
   "source": [
    "train_df.head()"
   ]
  },
  {
   "cell_type": "code",
   "execution_count": null,
   "metadata": {},
   "outputs": [],
   "source": [
    "# Neutral\n",
    "train_df[train_df['label'] == 0]['safe_text'].values[0]"
   ]
  },
  {
   "cell_type": "code",
   "execution_count": null,
   "metadata": {},
   "outputs": [],
   "source": [
    "# Pro-vaccination\n",
    "train_df[train_df['label'] == 1]['safe_text'].values[0]"
   ]
  },
  {
   "cell_type": "code",
   "execution_count": null,
   "metadata": {},
   "outputs": [],
   "source": [
    "# Anti-vaccination\n",
    "train_df[train_df['label'] == -1]['safe_text'].values[0]"
   ]
  },
  {
   "cell_type": "code",
   "execution_count": null,
   "metadata": {},
   "outputs": [],
   "source": [
    "print(train_df.label.value_counts())\n",
    "# Slicing out the outlier label(0.666667) \n",
    "train_df = train_df[train_df['label'].isin([-1, 0, 1])]"
   ]
  },
  {
   "cell_type": "code",
   "execution_count": null,
   "metadata": {},
   "outputs": [],
   "source": [
    "plt.figure(figsize=(9,4))\n",
    "plt.title('Class Distributions')\n",
    "train_df.label.value_counts().plot(kind='bar', color=('green', 'gray'))"
   ]
  },
  {
   "cell_type": "code",
   "execution_count": null,
   "metadata": {},
   "outputs": [],
   "source": [
    "train_df.head()"
   ]
  },
  {
   "cell_type": "markdown",
   "metadata": {},
   "source": [
    "### Text Preprocessing:\n",
    "* Remove stop words\n",
    "* Remove symbols.e.g ampasands(&),question_marks(?), exclamation_marks(!)\n",
    "* Remove html tags from tweets\n",
    "* Remove urls\n",
    "* Remove emojis\n",
    "* Remove single characters (The model will not learn anything useful with them)"
   ]
  },
  {
   "cell_type": "code",
   "execution_count": null,
   "metadata": {},
   "outputs": [],
   "source": [
    "#test_df[test_df['safe_text'].isnull() == True]\n",
    "train_df.dropna(inplace=True) # NAN labeled row\n",
    "test_df.fillna(value='am ok with it as long as its not dangerous', inplace=True) #null safe_text row (its a random imputation)"
   ]
  },
  {
   "cell_type": "code",
   "execution_count": null,
   "metadata": {},
   "outputs": [],
   "source": [
    "# Clean train_df\n",
    "train_df['safe_text'] = train_df.safe_text.apply(utils.remove_html)\n",
    "train_df['safe_text'] = train_df.safe_text.apply(utils.remove_URL)\n",
    "train_df['safe_text'] = train_df.safe_text.apply(utils.clean_text)\n",
    "train_df['safe_text'] = train_df.safe_text.apply(utils.remove_emoji)\n",
    "\n",
    "# Clean train_df\n",
    "test_df['safe_text'] = test_df.safe_text.apply(utils.remove_html)\n",
    "test_df['safe_text'] = test_df.safe_text.apply(utils.remove_URL)\n",
    "test_df['safe_text'] = test_df.safe_text.apply(utils.clean_text)\n",
    "test_df['safe_text'] = test_df.safe_text.apply(utils.remove_emoji)"
   ]
  },
  {
   "cell_type": "code",
   "execution_count": null,
   "metadata": {},
   "outputs": [],
   "source": [
    "# split data into documents/features and labels\n",
    "X = train_df.safe_text\n",
    "y = train_df.label"
   ]
  },
  {
   "cell_type": "markdown",
   "metadata": {},
   "source": [
    "### Building vectors\n",
    "\n",
    "The theory behind the model we'll build in this notebook is pretty simple: the words contained in each tweet are a good indicator of whether they're about a real disaster or not (this is not entirely correct, but it's a great place to start).\n",
    "\n",
    "We'll use scikit-learn's `CountVectorizer` to count the words in each tweet and turn them into data a machine learning model can process.\n",
    "\n",
    "Note: a `vector` is, in this context, a set of numbers that a machine learning model can work with."
   ]
  },
  {
   "cell_type": "code",
   "execution_count": null,
   "metadata": {},
   "outputs": [],
   "source": [
    "# Create train and test vectors\n",
    "train_vectors, count_vectorizer = utils.count_vectorize(X)\n",
    "\n",
    "# Map the tokens in the train vectors to the test set. \n",
    "# i.e.the train and test vectors use the same set of tokens.\n",
    "test_vectors = count_vectorizer.transform(test_df['safe_text'])"
   ]
  },
  {
   "cell_type": "markdown",
   "metadata": {},
   "source": [
    "### Building the model\n",
    "\n",
    "Words contained in each tweet are a good indicator of whether they're about `pro vaccination(1)`, `neutral(0)` or `anti-vaccination(-1)`. The presence of particular word (or set of words) in a tweet might link directly to any of the aforementioned cases.\n"
   ]
  },
  {
   "cell_type": "code",
   "execution_count": null,
   "metadata": {},
   "outputs": [],
   "source": [
    "# train-test split\n",
    "X_train, X_val, y_train, y_val = train_test_split(train_vectors, y, test_size=0.2, random_state=0)"
   ]
  },
  {
   "cell_type": "code",
   "execution_count": null,
   "metadata": {},
   "outputs": [],
   "source": [
    "# Build_model (without CV)\n",
    "xgb_clf = xgb.XGBRegressor(max_depth=9, n_estimators=200, colsample_bytree=0.8, \n",
    "                           objective='reg:squarederror', subsample=0.8,\n",
    "                           nthread=2, learning_rate=0.1, random_state=42\n",
    "                            )\n",
    "xgb_clf.fit(X_train, y_train)\n"
   ]
  },
  {
   "cell_type": "code",
   "execution_count": null,
   "metadata": {},
   "outputs": [],
   "source": [
    "val_preds = xgb_clf.predict(X_val)\n",
    "RMSE = utils.rmse(y_val, val_preds)\n",
    "RMSE"
   ]
  },
  {
   "cell_type": "code",
   "execution_count": null,
   "metadata": {
    "scrolled": true
   },
   "outputs": [],
   "source": [
    "# Model with Cross-Validation\n",
    "scores = []\n",
    "kf = StratifiedKFold(10, shuffle=True, random_state=1)\n",
    "for i, (tr, val) in enumerate(kf.split(train_vectors, y)):\n",
    "    X_tr, y_tr = train_vectors[tr], np.take(y, tr, axis=0)\n",
    "    X_val, y_val = train_vectors[val], np.take(y, val, axis=0)\n",
    "    xgb_clf = xgb.XGBRegressor(max_depth=9, n_estimators=200, colsample_bytree=0.8, \n",
    "                               objective='reg:squarederror', subsample=0.8,\n",
    "                               nthread=2, learning_rate=0.1, random_state=42\n",
    "                              )\n",
    "    xgb_clf.fit(X_tr, y_tr)\n",
    "    score = utils.rmse(y_val, xgb_clf.predict(X_val))\n",
    "    scores.append(score)\n",
    "    print(score)\n",
    "print(f'Mean_RMSE: {np.mean(scores)}')"
   ]
  },
  {
   "cell_type": "markdown",
   "metadata": {},
   "source": [
    "## Making predictions"
   ]
  },
  {
   "cell_type": "code",
   "execution_count": null,
   "metadata": {},
   "outputs": [],
   "source": [
    "arr = xgb_clf.predict(test_vectors)\n",
    "#arr = xgb_pipe.predict(test_vectors)\n",
    "# Padding\n",
    "for i in range(len(arr)):\n",
    "    if arr[i] > 1:\n",
    "        arr[i] = 1\n",
    "    elif arr[i] < -1:\n",
    "        arr[i] = -1\n",
    "        \n",
    "sub['label'] = arr"
   ]
  },
  {
   "cell_type": "code",
   "execution_count": null,
   "metadata": {},
   "outputs": [],
   "source": [
    "sub.head()"
   ]
  },
  {
   "cell_type": "code",
   "execution_count": null,
   "metadata": {},
   "outputs": [],
   "source": [
    "#os.mkdir('./submissions')\n",
    "sub.to_csv(f\"./submissions/sub_xgb_{np.round(np.mean(scores), 4)}.csv\", index=False)"
   ]
  },
  {
   "cell_type": "code",
   "execution_count": null,
   "metadata": {},
   "outputs": [],
   "source": []
  }
 ],
 "metadata": {
  "hide_input": false,
  "kernelspec": {
   "display_name": "base",
   "language": "python",
   "name": "base"
  },
  "language_info": {
   "codemirror_mode": {
    "name": "ipython",
    "version": 3
   },
   "file_extension": ".py",
   "mimetype": "text/x-python",
   "name": "python",
   "nbconvert_exporter": "python",
   "pygments_lexer": "ipython3",
   "version": "3.7.3"
  }
 },
 "nbformat": 4,
 "nbformat_minor": 1
}
