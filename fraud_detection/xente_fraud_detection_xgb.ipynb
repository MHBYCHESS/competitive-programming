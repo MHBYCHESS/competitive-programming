{
  "nbformat": 4,
  "nbformat_minor": 0,
  "metadata": {
    "colab": {
      "name": "xente_fraud_detection_xgb.ipynb",
      "version": "0.3.2",
      "provenance": [],
      "private_outputs": true,
      "collapsed_sections": []
    },
    "kernelspec": {
      "name": "python3",
      "display_name": "Python 3"
    },
    "accelerator": "GPU"
  },
  "cells": [
    {
      "cell_type": "markdown",
      "metadata": {
        "id": "1X22CfV8BBN7",
        "colab_type": "text"
      },
      "source": [
        "# Xente Fraud Detection Challenge\n",
        "<h2 style='bold'>Background:</h2>\n",
        "<p style='font-size:20'>\n",
        "Fraud detection is an important application of machine learning in the financial services sector. This solution will help Xente provide improved and safer service to its customers.The objective of this competition is to create a machine learning model to detect fraudulent transactions.\n",
        "</p>"
      ]
    },
    {
      "cell_type": "markdown",
      "metadata": {
        "id": "BSpCJZqEBBOL",
        "colab_type": "text"
      },
      "source": [
        "## Exploratory Data Analysis"
      ]
    },
    {
      "cell_type": "code",
      "metadata": {
        "id": "DazpnsMgBBOS",
        "colab_type": "code",
        "colab": {}
      },
      "source": [
        "'''Importing necessary libraries'''\n",
        "import pandas as pd\n",
        "import numpy as np\n",
        "from matplotlib import pyplot as plt\n",
        "import seaborn as sns\n",
        "from sklearn.preprocessing import LabelEncoder\n",
        "from sklearn.preprocessing import StandardScaler\n",
        "from sklearn.model_selection import train_test_split, StratifiedKFold\n",
        "from sklearn.pipeline import Pipeline\n",
        "from sklearn.model_selection import GridSearchCV\n",
        "from sklearn.metrics import make_scorer, matthews_corrcoef\n",
        "import scipy as sp\n",
        "from sklearn.ensemble import RandomForestClassifier\n",
        "import xgboost as xgb\n",
        "from sklearn.metrics import confusion_matrix, f1_score"
      ],
      "execution_count": 0,
      "outputs": []
    },
    {
      "cell_type": "code",
      "metadata": {
        "id": "5rOWbL0xB3n0",
        "colab_type": "code",
        "colab": {}
      },
      "source": [
        "from google.colab import drive\n",
        "drive.mount('/content/drive')"
      ],
      "execution_count": 0,
      "outputs": []
    },
    {
      "cell_type": "code",
      "metadata": {
        "id": "r4jymR2wBBOt",
        "colab_type": "code",
        "colab": {}
      },
      "source": [
        "#importing the data\n",
        "path = \"drive/My Drive/X_fraud_detection/data\"\n",
        "train = pd.read_csv(path + \"/training.csv\")\n",
        "test = pd.read_csv(path + \"/test.csv\")\n",
        "sub = pd.read_csv(path + \"/sample_submission.csv\")\n"
      ],
      "execution_count": 0,
      "outputs": []
    },
    {
      "cell_type": "code",
      "metadata": {
        "id": "yaB1wFP9BBO-",
        "colab_type": "code",
        "colab": {}
      },
      "source": [
        "#train set info\n",
        "train.info()"
      ],
      "execution_count": 0,
      "outputs": []
    },
    {
      "cell_type": "code",
      "metadata": {
        "id": "KJSaVJ34BBPX",
        "colab_type": "code",
        "colab": {}
      },
      "source": [
        "#viewing a sample of the training data\n",
        "train.head()"
      ],
      "execution_count": 0,
      "outputs": []
    },
    {
      "cell_type": "code",
      "metadata": {
        "id": "l8O_HYkZBBPt",
        "colab_type": "code",
        "colab": {}
      },
      "source": [
        "#test set info\n",
        "test.info()"
      ],
      "execution_count": 0,
      "outputs": []
    },
    {
      "cell_type": "code",
      "metadata": {
        "id": "yVuAmiv1BBP9",
        "colab_type": "code",
        "colab": {}
      },
      "source": [
        "#previewing the test set\n",
        "test.head()"
      ],
      "execution_count": 0,
      "outputs": []
    },
    {
      "cell_type": "code",
      "metadata": {
        "id": "88cdGssOBBQP",
        "colab_type": "code",
        "colab": {}
      },
      "source": [
        "#checking the shape of the train and test datasets\n",
        "tr = train.shape\n",
        "te = test.shape\n",
        "print(\"train_set_shape is: {} and test_set_shape is: {}\".format(tr,te))"
      ],
      "execution_count": 0,
      "outputs": []
    },
    {
      "cell_type": "code",
      "metadata": {
        "id": "btC2ThugPLuo",
        "colab_type": "code",
        "colab": {}
      },
      "source": [
        "train.drop_duplicates(keep=\"first\", inplace=True) #removing duplicate data if any\n",
        "test.drop_duplicates(keep=\"first\", inplace=True)\n",
        "\n",
        "del tr\n",
        "del te"
      ],
      "execution_count": 0,
      "outputs": []
    },
    {
      "cell_type": "code",
      "metadata": {
        "id": "2Bu3_ut3BBQe",
        "colab_type": "code",
        "colab": {}
      },
      "source": [
        "#Count of fraudulent and non-fraudulent cases\n",
        "print(\"Fraudulent: {}\".format((train[\"FraudResult\"]==1).sum()))\n",
        "print(\"Non-Fraudulent: {}\".format((train[\"FraudResult\"]==0).sum()))"
      ],
      "execution_count": 0,
      "outputs": []
    },
    {
      "cell_type": "code",
      "metadata": {
        "id": "Z9q0OnCNBBQ6",
        "colab_type": "code",
        "colab": {}
      },
      "source": [
        "#Visualising Fraudulent and non-fraudulent cases\n",
        "plt.bar(\"Fraudulent\", train[\"FraudResult\"].value_counts()[1], color=\"red\")\n",
        "plt.bar(\"Non_Fraudulent\", train[\"FraudResult\"].value_counts()[0], width=0.5, color=\"green\")\n",
        "plt.ylabel(\"Count\", fontsize=14)\n",
        "plt.title(\"Fraudulent VS Non-Fraudulent\")"
      ],
      "execution_count": 0,
      "outputs": []
    },
    {
      "cell_type": "code",
      "metadata": {
        "id": "BWJxulbCBBRo",
        "colab_type": "code",
        "colab": {}
      },
      "source": [
        "#label encoding columns\n",
        "columns = train.columns.tolist()[1:11]\n",
        "test_columns = test.columns.tolist()[1:11]\n",
        "\n",
        "le = LabelEncoder()\n",
        "for each in columns:\n",
        "    train[each] = le.fit_transform(train[each])\n",
        "\n",
        "for column in test_columns:\n",
        "  test[column] = le.fit_transform(test[column])"
      ],
      "execution_count": 0,
      "outputs": []
    },
    {
      "cell_type": "code",
      "metadata": {
        "id": "ltKq95fPC_0z",
        "colab_type": "code",
        "colab": {}
      },
      "source": [
        "train.head()"
      ],
      "execution_count": 0,
      "outputs": []
    },
    {
      "cell_type": "code",
      "metadata": {
        "id": "lOl8Z3WVuzpv",
        "colab_type": "code",
        "colab": {}
      },
      "source": [
        "len_train = len(train)\n",
        "new_df = pd.concat([train, test], sort=False)\n",
        "\n",
        "#getting categorical dummies\n",
        "categorical_columns = [\"ProviderId\", \"ProductCategory\", \"ProductId\", \"ChannelId\"]\n",
        "new_df = pd.get_dummies(new_df, columns=categorical_columns)\n",
        "new_df.head()"
      ],
      "execution_count": 0,
      "outputs": []
    },
    {
      "cell_type": "markdown",
      "metadata": {
        "id": "m0iIGcmUgIGo",
        "colab_type": "text"
      },
      "source": [
        "## Feature engineering(1)"
      ]
    },
    {
      "cell_type": "code",
      "metadata": {
        "id": "Djf8LUC9f_Dj",
        "colab_type": "code",
        "colab": {}
      },
      "source": [
        "#new_df"
      ],
      "execution_count": 0,
      "outputs": []
    },
    {
      "cell_type": "code",
      "metadata": {
        "id": "ivnAOuTRa1Ec",
        "colab_type": "code",
        "colab": {}
      },
      "source": [
        "train = new_df[:len_train]\n",
        "test = new_df[len_train:].reset_index(drop=True)"
      ],
      "execution_count": 0,
      "outputs": []
    },
    {
      "cell_type": "code",
      "metadata": {
        "id": "--I5ueS_gw_V",
        "colab_type": "code",
        "colab": {}
      },
      "source": [
        "test.drop(\"FraudResult\", axis=1, inplace=True)"
      ],
      "execution_count": 0,
      "outputs": []
    },
    {
      "cell_type": "code",
      "metadata": {
        "id": "BfJ719XBBBRv",
        "colab_type": "code",
        "colab": {}
      },
      "source": [
        "#Extracting time and day from the TransactionStartTime column to create new features\n",
        "train['hour'] = pd.to_datetime(train.TransactionStartTime).dt.hour\n",
        "train['minute'] = pd.to_datetime(train.TransactionStartTime).dt.minute\n",
        "train['day'] = pd.to_datetime(train.TransactionStartTime).dt.dayofweek\n",
        "\n",
        "test['hour'] = pd.to_datetime(test.TransactionStartTime).dt.hour\n",
        "test['minute'] = pd.to_datetime(test.TransactionStartTime).dt.minute\n",
        "test['day'] = pd.to_datetime(test.TransactionStartTime).dt.dayofweek"
      ],
      "execution_count": 0,
      "outputs": []
    },
    {
      "cell_type": "code",
      "metadata": {
        "id": "5_yiq45672Qd",
        "colab_type": "code",
        "colab": {}
      },
      "source": [
        "# dropping the transaction starttime column\n",
        "train = train.drop([\"TransactionStartTime\"], axis=1)\n",
        "test = test.drop([\"TransactionStartTime\"], axis=1)"
      ],
      "execution_count": 0,
      "outputs": []
    },
    {
      "cell_type": "code",
      "metadata": {
        "id": "Zbqw2cCh3N14",
        "colab_type": "code",
        "colab": {}
      },
      "source": [
        "correlations = train.corr()\n",
        "fig = plt.figure(figsize = (9, 6))\n",
        "\n",
        "sns.heatmap(correlations, vmax = .8, square = True)\n",
        "plt.show()"
      ],
      "execution_count": 0,
      "outputs": []
    },
    {
      "cell_type": "code",
      "metadata": {
        "id": "uCJaZKxd2K0l",
        "colab_type": "code",
        "colab": {}
      },
      "source": [
        "# Visualizing correlations of the various features to fraud_result\n",
        "(correlations\n",
        "     .FraudResult\n",
        "     .drop(\"FraudResult\") # can't compare the variable under study to itself\n",
        "     .sort_values(ascending=False)\n",
        "     .plot\n",
        "     .barh(figsize=(9,7)))\n",
        "plt.title(\"correlation bar_hist\")"
      ],
      "execution_count": 0,
      "outputs": []
    },
    {
      "cell_type": "markdown",
      "metadata": {
        "id": "X8cKMJUlE_Fi",
        "colab_type": "text"
      },
      "source": [
        "## Feature Engineering"
      ]
    },
    {
      "cell_type": "code",
      "metadata": {
        "id": "nX4aLEOUb0mJ",
        "colab_type": "code",
        "colab": {}
      },
      "source": [
        "train[\"period\"] = np.nan\n",
        "test[\"period\"] = np.nan"
      ],
      "execution_count": 0,
      "outputs": []
    },
    {
      "cell_type": "code",
      "metadata": {
        "id": "_5r3qVyKb0y1",
        "colab_type": "code",
        "colab": {}
      },
      "source": [
        "train.loc[train.hour < 7, \"period\"] = 'em'\n",
        "train.loc[(train.hour >= 7) & (train.hour < 11), \"period\"] = 'am'\n",
        "train.loc[(train.hour >= 11) & (train.hour < 15), \"period\"] = 'mid'\n",
        "train.loc[(train.hour >= 15) & (train.hour < 19), \"period\"] = 'eve'\n",
        "train.loc[(train.hour >= 19) & (train.hour <= 24), \"period\"] = 'pm'\n",
        "\n",
        "test.loc[test.hour < 7, \"period\"] = 'em'\n",
        "test.loc[(test.hour >= 7) & (test.hour < 11), \"period\"] = 'am'\n",
        "test.loc[(test.hour >= 11) & (test.hour < 15), \"period\"] = 'mid'\n",
        "test.loc[(test.hour >= 15) & (test.hour < 19), \"period\"] = 'eve'\n",
        "test.loc[(test.hour >= 19) & (test.hour <= 24), \"period\"] = 'pm'"
      ],
      "execution_count": 0,
      "outputs": []
    },
    {
      "cell_type": "code",
      "metadata": {
        "id": "EwMv8zdLb1mY",
        "colab_type": "code",
        "colab": {}
      },
      "source": [
        "# Encoding the period feature columns\n",
        "le = LabelEncoder()\n",
        "train[\"period\"] = le.fit_transform(train[\"period\"])\n",
        "test[\"period\"] = le.fit_transform(test[\"period\"])"
      ],
      "execution_count": 0,
      "outputs": []
    },
    {
      "cell_type": "code",
      "metadata": {
        "id": "1sGnc-vkBBRL",
        "colab_type": "code",
        "colab": {}
      },
      "source": [
        "# Dropping columns with negative correlation to the fraudresult\n",
        "columns_to_drop = [\"SubscriptionId\"]\n",
        "\n",
        "train = train.drop(columns_to_drop, axis=1)\n",
        "test = test.drop(columns_to_drop, axis=1)"
      ],
      "execution_count": 0,
      "outputs": []
    },
    {
      "cell_type": "code",
      "metadata": {
        "id": "6Rem4BxO6zNM",
        "colab_type": "code",
        "colab": {}
      },
      "source": [
        "new_correlations = train.corr()\n",
        "\n",
        "# Visualizing correlations of new features to fraud_result\n",
        "(new_correlations\n",
        "     .FraudResult\n",
        "     .drop(\"FraudResult\") # can't compare the variable under study to itself\n",
        "     .sort_values(ascending=False)\n",
        "     .plot\n",
        "     .barh(figsize=(9,7)))\n",
        "plt.title(\"correlation bar_hist\")"
      ],
      "execution_count": 0,
      "outputs": []
    },
    {
      "cell_type": "code",
      "metadata": {
        "id": "9DIzSkOCBqjQ",
        "colab_type": "code",
        "colab": {}
      },
      "source": [
        "# dropping non-predictor feature columns and the target(train-set only)\n",
        "target = train[\"FraudResult\"]\n",
        "train = train.drop([\"TransactionId\", \"FraudResult\"], axis=1)\n",
        "test_id = test[\"TransactionId\"]\n",
        "test = test.drop([\"TransactionId\"], axis=1)"
      ],
      "execution_count": 0,
      "outputs": []
    },
    {
      "cell_type": "code",
      "metadata": {
        "id": "PzAG7XoCEJni",
        "colab_type": "code",
        "colab": {}
      },
      "source": [
        "#Normalizing Amount and value columns\n",
        "train[\"Value\"] = train[\"Value\"].abs()\n",
        "train[\"Amount\"] = train[\"Amount\"].abs()\n",
        "test[\"Value\"] = test[\"Value\"].abs()\n",
        "test[\"Amount\"] = test[\"Amount\"].abs()"
      ],
      "execution_count": 0,
      "outputs": []
    },
    {
      "cell_type": "code",
      "metadata": {
        "id": "J1ex3uQVwhV0",
        "colab_type": "code",
        "colab": {}
      },
      "source": [
        "columns = columns\n",
        "X = train\n",
        "y = target\n",
        "\n",
        "X_train, X_val, y_train, y_val = train_test_split(X,y, test_size=0.25,\n",
        "                                                  random_state=1)\n",
        "\n",
        "#boxcox transform of value col.\n",
        "X_train.loc[:,'Value'], maxlog, (min_ci, max_ci) = sp.stats.boxcox(X_train['Value'],\n",
        "                                                                   alpha=0.01)"
      ],
      "execution_count": 0,
      "outputs": []
    },
    {
      "cell_type": "code",
      "metadata": {
        "id": "ZRDDv0LIx9x-",
        "colab_type": "code",
        "colab": {}
      },
      "source": [
        "MCC_scorer = make_scorer(matthews_corrcoef)"
      ],
      "execution_count": 0,
      "outputs": []
    },
    {
      "cell_type": "code",
      "metadata": {
        "id": "nlUC1-KzMoiI",
        "colab_type": "code",
        "colab": {}
      },
      "source": [
        "# RandomForest\n",
        "pipeline_rf = Pipeline([\n",
        "    ('model', RandomForestClassifier(max_depth=9, n_jobs=-1, random_state=1))\n",
        "])\n",
        "param_grid_rf = {'model__n_estimators': [50, 75, 100, 150, 200, 250, 300]\n",
        "                 }\n",
        "\n",
        "grid_rf = GridSearchCV(estimator=pipeline_rf, param_grid=param_grid_rf,\n",
        "                       scoring=MCC_scorer, n_jobs=-1, pre_dispatch='2*n_jobs',\n",
        "                       cv=8, verbose=1, return_train_score=False)\n",
        "\n",
        "grid_rf.fit(X_train, y_train)"
      ],
      "execution_count": 0,
      "outputs": []
    },
    {
      "cell_type": "code",
      "metadata": {
        "id": "SxFHjX-uy24_",
        "colab_type": "code",
        "colab": {}
      },
      "source": [
        "# Xgboost\n",
        "model = xgb.XGBClassifier()\n",
        "\n",
        "max_depth = range(1, 11, 2)\n",
        "random_state=[1]\n",
        "subsample = [0.9]\n",
        "base_score = [0.5]\n",
        "n_estimators = [50, 100, 150, 200, 250]\n",
        "\n",
        "param_grid = dict(max_depth=max_depth, n_estimators=n_estimators,\n",
        "                  random_state=random_state, subsample=subsample,\n",
        "                  base_score=base_score)\n",
        "kfold = StratifiedKFold(n_splits=8, shuffle=True, random_state=1)\n",
        "\n",
        "grid_xgb = GridSearchCV(model, param_grid, scoring=MCC_scorer, n_jobs=-1, \n",
        "                        pre_dispatch='2*n_jobs', cv=kfold, verbose=1)\n",
        "\n",
        "grid_xgb.fit(X_train, y_train)"
      ],
      "execution_count": 0,
      "outputs": []
    },
    {
      "cell_type": "code",
      "metadata": {
        "id": "sVO97nsIzTvn",
        "colab_type": "code",
        "colab": {}
      },
      "source": [
        "print(\"RandomForest: \\n\")\n",
        "print(grid_rf.best_score_)\n",
        "print(grid_rf.best_params_)\n",
        "print(\"\\n\")\n",
        "print(\"Xgboost: \\n\")\n",
        "print(grid_xgb.best_score_)\n",
        "print(grid_xgb.best_params_)"
      ],
      "execution_count": 0,
      "outputs": []
    },
    {
      "cell_type": "code",
      "metadata": {
        "id": "FcgiUy8_18XZ",
        "colab_type": "code",
        "colab": {}
      },
      "source": [
        "y_pred = grid_rf.predict(X_val)\n",
        "print(f'f1_score: {f1_score(y_val, y_pred)}\\n')\n",
        "print(confusion_matrix(y_val, y_pred))\n",
        "print(\"\\n\")\n",
        "\n",
        "val_pred = grid_xgb.predict(X_val)\n",
        "print(f'f1_score: {f1_score(y_val, val_pred)}\\n')\n",
        "confusion_matrix(y_val, val_pred)"
      ],
      "execution_count": 0,
      "outputs": []
    },
    {
      "cell_type": "code",
      "metadata": {
        "id": "blETFkfoJP49",
        "colab_type": "code",
        "colab": {}
      },
      "source": [
        "print(\"Predicting...\")\n",
        "predictions = grid_xgb.predict(test)\n",
        "submission = pd.DataFrame({'TransactionId': test_id, 'FraudResult': predictions})\n",
        "(submission['FraudResult']==1).value_counts()"
      ],
      "execution_count": 0,
      "outputs": []
    },
    {
      "cell_type": "code",
      "metadata": {
        "id": "4c_2Z3-yNEdn",
        "colab_type": "code",
        "colab": {}
      },
      "source": [
        "#making a submission file\n",
        "submission.to_csv('sub.csv',index=False) #currently waiting to test this submission\n",
        "print(\"done...\")"
      ],
      "execution_count": 0,
      "outputs": []
    },
    {
      "cell_type": "code",
      "metadata": {
        "id": "MIbIPDDgD2Kp",
        "colab_type": "code",
        "colab": {}
      },
      "source": [
        "#LBscore 0.76363 currently with xgboost. (only dropping \"SubscriptionId\"/no new features)"
      ],
      "execution_count": 0,
      "outputs": []
    },
    {
      "cell_type": "code",
      "metadata": {
        "id": "Qbsr_klsE6GB",
        "colab_type": "code",
        "colab": {}
      },
      "source": [
        ""
      ],
      "execution_count": 0,
      "outputs": []
    }
  ]
}